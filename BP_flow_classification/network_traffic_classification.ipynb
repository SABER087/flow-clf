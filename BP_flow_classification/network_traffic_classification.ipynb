{
 "cells": [
  {
   "cell_type": "markdown",
   "metadata": {},
   "source": [
    "# First Test With NISM Dataset"
   ]
  },
  {
   "cell_type": "code",
   "execution_count": 15,
   "metadata": {},
   "outputs": [
    {
     "name": "stdout",
     "output_type": "stream",
     "text": [
      "label\n",
      "mail          308\n",
      "skype         281\n",
      "ssh           319\n",
      "teamviewer    336\n",
      "telegram      279\n",
      "dtype: int64\n",
      "(1523L, 22L)\n",
      "[[   40    95   247 ...,   950    10  4514]\n",
      " [   40   150   557 ...,  1055     7   584]\n",
      " [   40    94   246 ...,   949     9  4474]\n",
      " ..., \n",
      " [   40   175   639 ...,  1578     8  1104]\n",
      " [   40   297   735 ...,  9237    33 13100]\n",
      " [   40   321   703 ...,  8670    26  7065]]\n",
      "-----------------------------------------------------------------------------\n",
      "(1523L, 13L)\n",
      "[[   95   247    81 ...,   950    10  4514]\n",
      " [  150   557   187 ...,  1055     7   584]\n",
      " [   94   246    81 ...,   949     9  4474]\n",
      " ..., \n",
      " [  175   639   242 ...,  1578     8  1104]\n",
      " [  297   735   306 ...,  9237    33 13100]\n",
      " [  321   703   314 ...,  8670    26  7065]]\n",
      "Native Network:            0.54\n",
      "finish\n"
     ]
    }
   ],
   "source": [
    "import pandas as pd\n",
    "import csv\n",
    "# read CSV file directly from a URL and save the results\n",
    "# NOT: First extract zip file\n",
    "#data = pd.read_csv('NISM.csv',   quoting=csv.QUOTE_NONE, encoding='utf-8')\n",
    "data = pd.read_csv('ourdataset_test_small4.csv',   quoting=csv.QUOTE_NONE, encoding='utf-8')\n",
    "\n",
    "#families whose count is greater than 30 \n",
    "#class_group = df.groupby(\"class\")\n",
    "\n",
    "print(data.groupby('label').size())\n",
    "\n",
    "# extact features and labels\n",
    "# X feature set, y labels\n",
    "X = data.loc[:,data.columns[:-1]] # -1 label kolonunu refer ediyor\n",
    "y = data.label\n",
    "X = X.values\n",
    "\n",
    "print(X.shape)\n",
    "# print X\n",
    "# print '----------------------------------------------'\n",
    "\n",
    "# Generally, this is one of the most commonly used preprocessing step.\n",
    "from sklearn.ensemble import ExtraTreesClassifier\n",
    "from sklearn.feature_selection import SelectFromModel\n",
    "from sklearn import preprocessing\n",
    "\n",
    "clf = ExtraTreesClassifier()\n",
    "clf = clf.fit(X, y)\n",
    "#print(clf.feature_importances_)\n",
    "\n",
    "model = SelectFromModel(clf, prefit=True)\n",
    "X_new = model.transform(X)\n",
    "X=X_new\n",
    "print(X.shape)\n",
    "# print X\n",
    "\n",
    "from sklearn import linear_model, ensemble, svm, ensemble, tree, neural_network, metrics, naive_bayes\n",
    "from sklearn import cross_validation\n",
    "\n",
    "\n",
    "# cross validation of the ML algorithms\n",
    "def stratified_cv(X, y, clf_class, shuffle=True, n_folds=10, **kwargs):\n",
    "    stratified_k_fold = cross_validation.StratifiedKFold(y, n_folds=n_folds, shuffle=shuffle)\n",
    "    y_pred = y.copy()\n",
    "    for ii, jj in stratified_k_fold:\n",
    "        X_train, X_test = X[ii], X[jj]\n",
    "        y_train = y[ii]\n",
    "        clf = clf_class(**kwargs)\n",
    "        clf.fit(X_train,y_train)\n",
    "        y_pred[jj] = clf.predict(X_test)\n",
    "    return y_pred\n",
    "\n",
    "# print accuracies of the ML algo.\n",
    "# print('Random Forest Classifier:       {:.2f}'.format(metrics.accuracy_score(y, stratified_cv(X, y, ensemble.RandomForestClassifier))))\n",
    "# print('Support vector machine(SVM):   {:.2f}'.format(metrics.accuracy_score(y, stratified_cv(X, y, svm.SVC))))\n",
    "# print('Logistic Regression:            {:.2f}'.format(metrics.accuracy_score(y, stratified_cv(X, y, linear_model.LogisticRegression))))\n",
    "print('Native Network:            {:.2f}'.format(metrics.accuracy_score(y, stratified_cv(X, y, neural_network.MLPClassifier, activation ='relu',\n",
    "                                                                                        hidden_layer_sizes =(30,30,30,30,30,30,30,30,30)))))\n",
    "print 'finish'"
   ]
  },
  {
   "cell_type": "code",
   "execution_count": null,
   "metadata": {
    "collapsed": true
   },
   "outputs": [],
   "source": []
  }
 ],
 "metadata": {
  "kernelspec": {
   "display_name": "Python 2",
   "language": "python",
   "name": "python2"
  },
  "language_info": {
   "codemirror_mode": {
    "name": "ipython",
    "version": 2
   },
   "file_extension": ".py",
   "mimetype": "text/x-python",
   "name": "python",
   "nbconvert_exporter": "python",
   "pygments_lexer": "ipython2",
   "version": "2.7.14"
  }
 },
 "nbformat": 4,
 "nbformat_minor": 1
}
